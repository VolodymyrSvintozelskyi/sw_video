{
 "cells": [
  {
   "cell_type": "code",
   "execution_count": 3,
   "metadata": {},
   "outputs": [
    {
     "name": "stdout",
     "output_type": "stream",
     "text": [
      "(64, 3)\n",
      "65 files loaded.\n"
     ]
    }
   ],
   "source": [
    "import numpy as np\n",
    "import os\n",
    "\n",
    "# inputfolder = '..\\\\data\\\\06_02_2022-19_11_19_test_run_10minpixSTCE2_0v_2\\\\{}'\n",
    "inputfolder = '..\\\\data\\\\06_04_2022-21_51_26stce2_gradientcal5_AC0.5V_600sec\\\\{}'\n",
    "\n",
    "# time px py v i\n",
    "# data = np.zeros((1,8,8,1,1))\n",
    "data = {}\n",
    "\n",
    "for file in os.listdir(inputfolder.format('')):\n",
    "    if file.endswith(\".txt\"):\n",
    "        data[file[:-4]] = np.loadtxt(inputfolder.format(file)) # t V IOError\n",
    "        # print(data[file[:-4]].shape)\n",
    "\n",
    "mult_file = np.loadtxt(inputfolder.format(\"gradient.txt\")) # Non numeric lines should start with # !\n",
    "mult_file_matrix = np.zeros((8,8))\n",
    "for line in range(mult_file.shape[0]):\n",
    "    mult_file_matrix[int(mult_file[line,0]),int(mult_file[line,1])] = mult_file[line,2]\n",
    "print ( mult_file.shape)\n",
    "\n",
    "print(\"{} files loaded.\".format(len(data)))"
   ]
  },
  {
   "cell_type": "code",
   "execution_count": 4,
   "metadata": {},
   "outputs": [
    {
     "data": {
      "text/plain": [
       "Text(0.5, 0, 'time')"
      ]
     },
     "execution_count": 4,
     "metadata": {},
     "output_type": "execute_result"
    },
    {
     "data": {
      "image/png": "[encoded data removed]",
      "text/plain": [
       "<Figure size 1080x360 with 2 Axes>"
      ]
     },
     "metadata": {
      "needs_background": "light"
     },
     "output_type": "display_data"
    }
   ],
   "source": [
    "def mov_av(x, w):\n",
    "    return np.convolve(x, np.ones(w), 'valid') / w\n",
    "\n",
    "import matplotlib.pyplot as plt\n",
    "fig,ax = plt.subplots(1,2, figsize=(15,5))\n",
    "pixelid = 'R0G7'\n",
    "mov_av_w = 15\n",
    "ax[0].plot(data[pixelid][:,0], data[pixelid][:,2])\n",
    "ax[1].plot(data[pixelid][:-mov_av_w+1,0], mov_av(data[pixelid][:,2], mov_av_w))\n",
    "ax[0].set_ylabel(\"I [{}]\".format(pixelid))\n",
    "ax[1].set_ylabel(\"mov av. I [{}]\".format(pixelid))\n",
    "ax[1].set_xlabel(\"time\")"
   ]
  },
  {
   "cell_type": "code",
   "execution_count": 5,
   "metadata": {},
   "outputs": [],
   "source": [
    "sm_data = {}\n",
    "for k,v in data.items():\n",
    "    newI = mov_av(v[:,2],mov_av_w)\n",
    "    newV = mov_av(v[:,1],mov_av_w)\n",
    "    newT = v[:-mov_av_w+1,0]\n",
    "    sm_data[k] = np.vstack([newT,newV,newI]).T"
   ]
  },
  {
   "cell_type": "code",
   "execution_count": 6,
   "metadata": {},
   "outputs": [
    {
     "name": "stdout",
     "output_type": "stream",
     "text": [
      "Min pixel total time: 7.0\n",
      "Min pixel points: 50\n",
      "FPS: 7\n",
      "Timestep: 0.14285714285714285\n"
     ]
    }
   ],
   "source": [
    "mintime = np.min([np.max(val[:,0]) for val in sm_data.values()])\n",
    "minpoints = np.min([val.shape[0] for val in sm_data.values()])\n",
    "# maxcurrent = [np.max(val[:,2]) for val in sm_data.values()]\n",
    "# mincurrent = [np.min(val[:,2]) for val in sm_data.values()]\n",
    "print(\"Min pixel total time:\",mintime)\n",
    "print(\"Min pixel points:\",minpoints)\n",
    "fps = round(minpoints/mintime)\n",
    "print(\"FPS:\",fps)\n",
    "print(\"Timestep:\",1/fps)\n",
    "# print(\"Max current:\",maxcurrent)\n",
    "# print(\"Min current:\",mincurrent)"
   ]
  },
  {
   "cell_type": "code",
   "execution_count": 7,
   "metadata": {},
   "outputs": [
    {
     "name": "stderr",
     "output_type": "stream",
     "text": [
      "100%|██████████| 49/49 [00:00<00:00, 212.69it/s]\n"
     ]
    }
   ],
   "source": [
    "import cv2, tqdm\n",
    "from PIL import Image\n",
    "size = 8*30, 8*30\n",
    "out = cv2.VideoWriter('../output/video_{}.mp4'.format(inputfolder[8:-3]), cv2.VideoWriter_fourcc(*'mp4v'), fps, (size[1], size[0]), False)\n",
    "\n",
    "# darkcurrent = 0\n",
    "\n",
    "for frame_ind in tqdm.tqdm(range(round(mintime*fps))):\n",
    "    time = frame_ind/fps\n",
    "    frame = np.zeros((8,8))\n",
    "\n",
    "    for g_i in range(7,-1,-1):\n",
    "        for r_i in range(0,8,1):\n",
    "            frame_data = sm_data['R{}G{}'.format(r_i, g_i)]\n",
    "            maxcurrent = np.average(frame_data[:20,2])\n",
    "            mincurrent = 0#np.min(frame_data[:,2])\n",
    "            time_ind = np.argmin( np.abs(frame_data[:,0] - time) )\n",
    "            curr = frame_data[time_ind,2]\n",
    "            # assert curr - mincurrent >= 0\n",
    "            frame[7-g_i, r_i] = round((curr-mincurrent)/(maxcurrent-mincurrent)*0.5 * 255) * mult_file_matrix[r_i, g_i]\n",
    "            # if ((r_i == 0) and (g_i == 0)): frame[g_i-7, r_i] = 0\n",
    "    # data = np.random.randint(0, 256, size, dtype='uint8')\n",
    "    frame = np.repeat(np.repeat(frame,30,0),30,1)\n",
    "    # break\n",
    "    # img = Image.fromarray(frame)\n",
    "    # img = img.convert(\"L\")\n",
    "    # img.save(\"../output/frames/{}.png\".format(frame_ind))\n",
    "\n",
    "    out.write(frame.astype('uint8'))\n",
    "out.release()"
   ]
  }
 ],
 "metadata": {
  "interpreter": {
   "hash": "3d30355a9825a4bc23978382ba4b7f53b84468a29a0127ed21ae60897d058e60"
  },
  "kernelspec": {
   "display_name": "Python 3.9.13 ('venv': venv)",
   "language": "python",
   "name": "python3"
  },
  "language_info": {
   "codemirror_mode": {
    "name": "ipython",
    "version": 3
   },
   "file_extension": ".py",
   "mimetype": "text/x-python",
   "name": "python",
   "nbconvert_exporter": "python",
   "pygments_lexer": "ipython3",
   "version": "3.9.13"
  },
  "orig_nbformat": 4
 },
 "nbformat": 4,
 "nbformat_minor": 2
}
